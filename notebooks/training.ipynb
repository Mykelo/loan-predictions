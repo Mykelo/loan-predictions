{
 "cells": [
  {
   "cell_type": "code",
   "execution_count": 1,
   "metadata": {},
   "outputs": [],
   "source": [
    "import os, sys\n",
    "sys.path.insert(0, \"..\")\n",
    "\n",
    "from sklearn.linear_model import LogisticRegression\n",
    "from sklearn.ensemble import RandomForestClassifier\n",
    "import numpy as np"
   ]
  },
  {
   "cell_type": "code",
   "execution_count": 2,
   "metadata": {},
   "outputs": [],
   "source": [
    "X_train = np.load('../data/processed/X_train.npy')\n",
    "X_test = np.load('../data/processed/X_test.npy')\n",
    "y_train = np.load('../data/processed/y_train.npy')\n",
    "y_test = np.load('../data/processed/y_test.npy')"
   ]
  },
  {
   "cell_type": "code",
   "execution_count": 23,
   "metadata": {},
   "outputs": [
    {
     "name": "stderr",
     "output_type": "stream",
     "text": [
      "d:\\Users\\Michal\\Documents\\Studia\\semestr2\\NLP\\nlp\\lib\\site-packages\\sklearn\\linear_model\\_logistic.py:814: ConvergenceWarning: lbfgs failed to converge (status=1):\n",
      "STOP: TOTAL NO. of ITERATIONS REACHED LIMIT.\n",
      "\n",
      "Increase the number of iterations (max_iter) or scale the data as shown in:\n",
      "    https://scikit-learn.org/stable/modules/preprocessing.html\n",
      "Please also refer to the documentation for alternative solver options:\n",
      "    https://scikit-learn.org/stable/modules/linear_model.html#logistic-regression\n",
      "  n_iter_i = _check_optimize_result(\n"
     ]
    },
    {
     "data": {
      "text/plain": [
       "(0.9953137395060611, 0.9901016667088978, 0.9926788057344849, None)"
      ]
     },
     "execution_count": 23,
     "metadata": {},
     "output_type": "execute_result"
    }
   ],
   "source": [
    "from sklearn.metrics import precision_recall_fscore_support\n",
    "\n",
    "clf = LogisticRegression(max_iter=200, random_state=31).fit(X_train, y_train)\n",
    "precision_recall_fscore_support(y_test, clf.predict(X_test), average='macro')"
   ]
  },
  {
   "cell_type": "code",
   "execution_count": 8,
   "metadata": {},
   "outputs": [],
   "source": [
    "clf_rf = RandomForestClassifier(max_depth=3, random_state=31).fit(X_train, y_train)\n",
    "# clf_rf.feature_importances_"
   ]
  },
  {
   "cell_type": "code",
   "execution_count": 10,
   "metadata": {},
   "outputs": [],
   "source": [
    "ind = np.argsort(clf_rf.feature_importances_)[-100:]\n",
    "X_train_selected = X_train[:, ind]"
   ]
  },
  {
   "cell_type": "code",
   "execution_count": 11,
   "metadata": {},
   "outputs": [
    {
     "name": "stderr",
     "output_type": "stream",
     "text": [
      "d:\\Users\\Michal\\Documents\\Studia\\semestr2\\NLP\\nlp\\lib\\site-packages\\sklearn\\linear_model\\_logistic.py:814: ConvergenceWarning: lbfgs failed to converge (status=1):\n",
      "STOP: TOTAL NO. of ITERATIONS REACHED LIMIT.\n",
      "\n",
      "Increase the number of iterations (max_iter) or scale the data as shown in:\n",
      "    https://scikit-learn.org/stable/modules/preprocessing.html\n",
      "Please also refer to the documentation for alternative solver options:\n",
      "    https://scikit-learn.org/stable/modules/linear_model.html#logistic-regression\n",
      "  n_iter_i = _check_optimize_result(\n"
     ]
    },
    {
     "data": {
      "text/plain": [
       "(0.9953385780699284, 0.9901086321140522, 0.9926945112402366, None)"
      ]
     },
     "execution_count": 11,
     "metadata": {},
     "output_type": "execute_result"
    }
   ],
   "source": [
    "from sklearn.metrics import precision_recall_fscore_support\n",
    "\n",
    "clf = LogisticRegression(max_iter=200).fit(X_train_selected, y_train)\n",
    "precision_recall_fscore_support(y_test, clf.predict(X_test[:, ind]), average='macro')"
   ]
  },
  {
   "cell_type": "code",
   "execution_count": 22,
   "metadata": {},
   "outputs": [
    {
     "data": {
      "text/plain": [
       "(0.9991404454977943, 0.9973944280534299, 0.9982642206325865, None)"
      ]
     },
     "execution_count": 22,
     "metadata": {},
     "output_type": "execute_result"
    }
   ],
   "source": [
    "from xgboost import XGBClassifier\n",
    "\n",
    "xgb = XGBClassifier(seed=2)\n",
    "xgb.fit(X_train, y_train)\n",
    "precision_recall_fscore_support(y_test, xgb.predict(X_test), average='macro')\n"
   ]
  },
  {
   "cell_type": "code",
   "execution_count": 3,
   "metadata": {},
   "outputs": [
    {
     "name": "stderr",
     "output_type": "stream",
     "text": [
      "d:\\Users\\Michal\\Documents\\Studia\\semestr2\\NLP\\nlp\\lib\\site-packages\\sklearn\\linear_model\\_logistic.py:814: ConvergenceWarning: lbfgs failed to converge (status=1):\n",
      "STOP: TOTAL NO. of ITERATIONS REACHED LIMIT.\n",
      "\n",
      "Increase the number of iterations (max_iter) or scale the data as shown in:\n",
      "    https://scikit-learn.org/stable/modules/preprocessing.html\n",
      "Please also refer to the documentation for alternative solver options:\n",
      "    https://scikit-learn.org/stable/modules/linear_model.html#logistic-regression\n",
      "  n_iter_i = _check_optimize_result(\n"
     ]
    },
    {
     "data": {
      "text/plain": [
       "LogisticRegressionRF()"
      ]
     },
     "execution_count": 3,
     "metadata": {},
     "output_type": "execute_result"
    }
   ],
   "source": [
    "from src.models.custom_models import LogisticRegressionRF\n",
    "\n",
    "lgrf = LogisticRegressionRF(features_num=100)\n",
    "lgrf.fit(X_train, y_train)"
   ]
  },
  {
   "cell_type": "code",
   "execution_count": 8,
   "metadata": {},
   "outputs": [
    {
     "data": {
      "text/plain": [
       "(0.9234664926434294, 0.9446357246860418, 0.9334593696539852, None)"
      ]
     },
     "execution_count": 8,
     "metadata": {},
     "output_type": "execute_result"
    }
   ],
   "source": [
    "from sklearn.metrics import precision_recall_fscore_support\n",
    "from sklearn.tree import DecisionTreeClassifier\n",
    "\n",
    "clf = DecisionTreeClassifier(ccp_alpha=0.01)\n",
    "clf.fit(X_train, y_train)\n",
    "precision_recall_fscore_support(y_test, clf.predict(X_test), average='macro')"
   ]
  },
  {
   "cell_type": "code",
   "execution_count": 9,
   "metadata": {},
   "outputs": [
    {
     "data": {
      "text/plain": [
       "[Text(209.25, 190.26, 'X[18] <= -0.236\\ngini = 0.344\\nsamples = 1105907\\nvalue = [861401, 244506]'),\n",
       " Text(167.4, 135.9, 'X[21] <= -0.311\\ngini = 0.191\\nsamples = 964480\\nvalue = [861401, 103079]'),\n",
       " Text(83.7, 81.53999999999999, 'X[19] <= -0.552\\ngini = 0.499\\nsamples = 150734\\nvalue = [77810, 72924]'),\n",
       " Text(41.85, 27.180000000000007, 'gini = 0.438\\nsamples = 106526\\nvalue = [34437, 72089]'),\n",
       " Text(125.55000000000001, 27.180000000000007, 'gini = 0.037\\nsamples = 44208\\nvalue = [43373, 835]'),\n",
       " Text(251.10000000000002, 81.53999999999999, 'X[14] <= -0.127\\ngini = 0.071\\nsamples = 813746\\nvalue = [783591, 30155]'),\n",
       " Text(209.25, 27.180000000000007, 'gini = 0.04\\nsamples = 799944\\nvalue = [783591, 16353]'),\n",
       " Text(292.95, 27.180000000000007, 'gini = 0.0\\nsamples = 13802\\nvalue = [0, 13802]'),\n",
       " Text(251.10000000000002, 135.9, 'gini = 0.0\\nsamples = 141427\\nvalue = [0, 141427]')]"
      ]
     },
     "execution_count": 9,
     "metadata": {},
     "output_type": "execute_result"
    },
    {
     "data": {
      "image/png": "[encoded data removed]",
      "text/plain": [
       "<Figure size 432x288 with 1 Axes>"
      ]
     },
     "metadata": {
      "needs_background": "light"
     },
     "output_type": "display_data"
    }
   ],
   "source": [
    "from sklearn import tree\n",
    "tree.plot_tree(clf)"
   ]
  }
 ],
 "metadata": {
  "kernelspec": {
   "display_name": "Python 3.9.7",
   "language": "python",
   "name": "python3"
  },
  "language_info": {
   "codemirror_mode": {
    "name": "ipython",
    "version": 3
   },
   "file_extension": ".py",
   "mimetype": "text/x-python",
   "name": "python",
   "nbconvert_exporter": "python",
   "pygments_lexer": "ipython3",
   "version": "3.9.7"
  },
  "orig_nbformat": 4,
  "vscode": {
   "interpreter": {
    "hash": "c05dfa14102612e2962a4bf5491561e53837f2af21de731e01770c26933aef7f"
   }
  }
 },
 "nbformat": 4,
 "nbformat_minor": 2
}
