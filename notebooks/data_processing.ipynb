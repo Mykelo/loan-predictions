{
 "cells": [
  {
   "cell_type": "code",
   "execution_count": 1,
   "metadata": {},
   "outputs": [],
   "source": [
    "import pandas as pd\n",
    "import numpy as np\n",
    "\n",
    "import re\n",
    "\n",
    "import matplotlib.pyplot as plt\n",
    "import seaborn as sns\n",
    "\n",
    "from sklearn.model_selection import train_test_split\n",
    "from sklearn.metrics import accuracy_score, precision_score, recall_score, confusion_matrix, precision_recall_curve\n",
    "\n",
    "from scipy.stats import pearsonr, chi2_contingency\n",
    "from itertools import combinations\n",
    "from statsmodels.stats.proportion import proportion_confint"
   ]
  },
  {
   "cell_type": "markdown",
   "metadata": {},
   "source": [
    "# 1. Introduction\n",
    "\n",
    "The presented analysis was inspired by the second chapter of [this kaggle notebook](https://www.kaggle.com/code/pavlofesenko/minimizing-risks-for-loan-investments). Some changes were made but the main ideas and most of the explanations are taken from this solution.\n",
    "\n",
    "# 2. Data preprocessing"
   ]
  },
  {
   "cell_type": "code",
   "execution_count": 2,
   "metadata": {},
   "outputs": [
    {
     "name": "stderr",
     "output_type": "stream",
     "text": [
      "d:\\Users\\Michal\\Documents\\Studia\\semestr2\\NLP\\nlp\\lib\\site-packages\\IPython\\core\\interactiveshell.py:3457: DtypeWarning: Columns (0,19,49,59,118,129,130,131,134,135,136,139,145,146,147) have mixed types.Specify dtype option on import or set low_memory=False.\n",
      "  exec(code_obj, self.user_global_ns, self.user_ns)\n"
     ]
    },
    {
     "data": {
      "text/html": [
       "<div>\n",
       "<style scoped>\n",
       "    .dataframe tbody tr th:only-of-type {\n",
       "        vertical-align: middle;\n",
       "    }\n",
       "\n",
       "    .dataframe tbody tr th {\n",
       "        vertical-align: top;\n",
       "    }\n",
       "\n",
       "    .dataframe thead th {\n",
       "        text-align: right;\n",
       "    }\n",
       "</style>\n",
       "<table border=\"1\" class=\"dataframe\">\n",
       "  <thead>\n",
       "    <tr style=\"text-align: right;\">\n",
       "      <th></th>\n",
       "      <th>id</th>\n",
       "      <th>member_id</th>\n",
       "      <th>loan_amnt</th>\n",
       "      <th>funded_amnt</th>\n",
       "      <th>funded_amnt_inv</th>\n",
       "      <th>term</th>\n",
       "      <th>int_rate</th>\n",
       "      <th>installment</th>\n",
       "      <th>grade</th>\n",
       "      <th>sub_grade</th>\n",
       "      <th>...</th>\n",
       "      <th>hardship_payoff_balance_amount</th>\n",
       "      <th>hardship_last_payment_amount</th>\n",
       "      <th>disbursement_method</th>\n",
       "      <th>debt_settlement_flag</th>\n",
       "      <th>debt_settlement_flag_date</th>\n",
       "      <th>settlement_status</th>\n",
       "      <th>settlement_date</th>\n",
       "      <th>settlement_amount</th>\n",
       "      <th>settlement_percentage</th>\n",
       "      <th>settlement_term</th>\n",
       "    </tr>\n",
       "  </thead>\n",
       "  <tbody>\n",
       "    <tr>\n",
       "      <th>0</th>\n",
       "      <td>68407277</td>\n",
       "      <td>NaN</td>\n",
       "      <td>3600.0</td>\n",
       "      <td>3600.0</td>\n",
       "      <td>3600.0</td>\n",
       "      <td>36 months</td>\n",
       "      <td>13.99</td>\n",
       "      <td>123.03</td>\n",
       "      <td>C</td>\n",
       "      <td>C4</td>\n",
       "      <td>...</td>\n",
       "      <td>NaN</td>\n",
       "      <td>NaN</td>\n",
       "      <td>Cash</td>\n",
       "      <td>N</td>\n",
       "      <td>NaN</td>\n",
       "      <td>NaN</td>\n",
       "      <td>NaN</td>\n",
       "      <td>NaN</td>\n",
       "      <td>NaN</td>\n",
       "      <td>NaN</td>\n",
       "    </tr>\n",
       "    <tr>\n",
       "      <th>1</th>\n",
       "      <td>68355089</td>\n",
       "      <td>NaN</td>\n",
       "      <td>24700.0</td>\n",
       "      <td>24700.0</td>\n",
       "      <td>24700.0</td>\n",
       "      <td>36 months</td>\n",
       "      <td>11.99</td>\n",
       "      <td>820.28</td>\n",
       "      <td>C</td>\n",
       "      <td>C1</td>\n",
       "      <td>...</td>\n",
       "      <td>NaN</td>\n",
       "      <td>NaN</td>\n",
       "      <td>Cash</td>\n",
       "      <td>N</td>\n",
       "      <td>NaN</td>\n",
       "      <td>NaN</td>\n",
       "      <td>NaN</td>\n",
       "      <td>NaN</td>\n",
       "      <td>NaN</td>\n",
       "      <td>NaN</td>\n",
       "    </tr>\n",
       "    <tr>\n",
       "      <th>2</th>\n",
       "      <td>68341763</td>\n",
       "      <td>NaN</td>\n",
       "      <td>20000.0</td>\n",
       "      <td>20000.0</td>\n",
       "      <td>20000.0</td>\n",
       "      <td>60 months</td>\n",
       "      <td>10.78</td>\n",
       "      <td>432.66</td>\n",
       "      <td>B</td>\n",
       "      <td>B4</td>\n",
       "      <td>...</td>\n",
       "      <td>NaN</td>\n",
       "      <td>NaN</td>\n",
       "      <td>Cash</td>\n",
       "      <td>N</td>\n",
       "      <td>NaN</td>\n",
       "      <td>NaN</td>\n",
       "      <td>NaN</td>\n",
       "      <td>NaN</td>\n",
       "      <td>NaN</td>\n",
       "      <td>NaN</td>\n",
       "    </tr>\n",
       "    <tr>\n",
       "      <th>3</th>\n",
       "      <td>66310712</td>\n",
       "      <td>NaN</td>\n",
       "      <td>35000.0</td>\n",
       "      <td>35000.0</td>\n",
       "      <td>35000.0</td>\n",
       "      <td>60 months</td>\n",
       "      <td>14.85</td>\n",
       "      <td>829.90</td>\n",
       "      <td>C</td>\n",
       "      <td>C5</td>\n",
       "      <td>...</td>\n",
       "      <td>NaN</td>\n",
       "      <td>NaN</td>\n",
       "      <td>Cash</td>\n",
       "      <td>N</td>\n",
       "      <td>NaN</td>\n",
       "      <td>NaN</td>\n",
       "      <td>NaN</td>\n",
       "      <td>NaN</td>\n",
       "      <td>NaN</td>\n",
       "      <td>NaN</td>\n",
       "    </tr>\n",
       "    <tr>\n",
       "      <th>4</th>\n",
       "      <td>68476807</td>\n",
       "      <td>NaN</td>\n",
       "      <td>10400.0</td>\n",
       "      <td>10400.0</td>\n",
       "      <td>10400.0</td>\n",
       "      <td>60 months</td>\n",
       "      <td>22.45</td>\n",
       "      <td>289.91</td>\n",
       "      <td>F</td>\n",
       "      <td>F1</td>\n",
       "      <td>...</td>\n",
       "      <td>NaN</td>\n",
       "      <td>NaN</td>\n",
       "      <td>Cash</td>\n",
       "      <td>N</td>\n",
       "      <td>NaN</td>\n",
       "      <td>NaN</td>\n",
       "      <td>NaN</td>\n",
       "      <td>NaN</td>\n",
       "      <td>NaN</td>\n",
       "      <td>NaN</td>\n",
       "    </tr>\n",
       "  </tbody>\n",
       "</table>\n",
       "<p>5 rows × 151 columns</p>\n",
       "</div>"
      ],
      "text/plain": [
       "         id  member_id  loan_amnt  funded_amnt  funded_amnt_inv        term  \\\n",
       "0  68407277        NaN     3600.0       3600.0           3600.0   36 months   \n",
       "1  68355089        NaN    24700.0      24700.0          24700.0   36 months   \n",
       "2  68341763        NaN    20000.0      20000.0          20000.0   60 months   \n",
       "3  66310712        NaN    35000.0      35000.0          35000.0   60 months   \n",
       "4  68476807        NaN    10400.0      10400.0          10400.0   60 months   \n",
       "\n",
       "   int_rate  installment grade sub_grade  ... hardship_payoff_balance_amount  \\\n",
       "0     13.99       123.03     C        C4  ...                            NaN   \n",
       "1     11.99       820.28     C        C1  ...                            NaN   \n",
       "2     10.78       432.66     B        B4  ...                            NaN   \n",
       "3     14.85       829.90     C        C5  ...                            NaN   \n",
       "4     22.45       289.91     F        F1  ...                            NaN   \n",
       "\n",
       "  hardship_last_payment_amount disbursement_method  debt_settlement_flag  \\\n",
       "0                          NaN                Cash                     N   \n",
       "1                          NaN                Cash                     N   \n",
       "2                          NaN                Cash                     N   \n",
       "3                          NaN                Cash                     N   \n",
       "4                          NaN                Cash                     N   \n",
       "\n",
       "  debt_settlement_flag_date settlement_status settlement_date  \\\n",
       "0                       NaN               NaN             NaN   \n",
       "1                       NaN               NaN             NaN   \n",
       "2                       NaN               NaN             NaN   \n",
       "3                       NaN               NaN             NaN   \n",
       "4                       NaN               NaN             NaN   \n",
       "\n",
       "  settlement_amount settlement_percentage settlement_term  \n",
       "0               NaN                   NaN             NaN  \n",
       "1               NaN                   NaN             NaN  \n",
       "2               NaN                   NaN             NaN  \n",
       "3               NaN                   NaN             NaN  \n",
       "4               NaN                   NaN             NaN  \n",
       "\n",
       "[5 rows x 151 columns]"
      ]
     },
     "execution_count": 2,
     "metadata": {},
     "output_type": "execute_result"
    }
   ],
   "source": [
    "data = pd.read_csv(\n",
    "    '../data/raw/accepted_2007_to_2018Q4.csv',\n",
    "    parse_dates=['issue_d'], infer_datetime_format=True)\n",
    "data = data.reset_index(drop=True)\n",
    "data.head()"
   ]
  },
  {
   "cell_type": "markdown",
   "metadata": {},
   "source": [
    "## 2.1. Target column encoding\n",
    "\n",
    "First, I encode the target column according to the specification."
   ]
  },
  {
   "cell_type": "code",
   "execution_count": 3,
   "metadata": {},
   "outputs": [],
   "source": [
    "X = data[data['loan_status'] != 'Current'].copy()\n",
    "X.loc[X['loan_status'] == 'Fully Paid', 'target'] = 0\n",
    "X.loc[X['loan_status'] != 'Fully Paid', 'target'] = 1\n",
    "X = X.drop(columns=['id', 'loan_status'])"
   ]
  },
  {
   "cell_type": "code",
   "execution_count": 4,
   "metadata": {},
   "outputs": [
    {
     "data": {
      "text/plain": [
       "0.0    1076751\n",
       "1.0     305633\n",
       "Name: target, dtype: int64"
      ]
     },
     "execution_count": 4,
     "metadata": {},
     "output_type": "execute_result"
    }
   ],
   "source": [
    "X.target.value_counts()"
   ]
  },
  {
   "cell_type": "markdown",
   "metadata": {},
   "source": [
    "## 2.2. Feature types\n",
    "\n",
    "Let's check the categorical features and see if any of them could be transformed to other types."
   ]
  },
  {
   "cell_type": "code",
   "execution_count": 5,
   "metadata": {},
   "outputs": [
    {
     "data": {
      "text/html": [
       "<div>\n",
       "<style scoped>\n",
       "    .dataframe tbody tr th:only-of-type {\n",
       "        vertical-align: middle;\n",
       "    }\n",
       "\n",
       "    .dataframe tbody tr th {\n",
       "        vertical-align: top;\n",
       "    }\n",
       "\n",
       "    .dataframe thead th {\n",
       "        text-align: right;\n",
       "    }\n",
       "</style>\n",
       "<table border=\"1\" class=\"dataframe\">\n",
       "  <thead>\n",
       "    <tr style=\"text-align: right;\">\n",
       "      <th></th>\n",
       "      <th>term</th>\n",
       "      <th>grade</th>\n",
       "      <th>sub_grade</th>\n",
       "      <th>emp_title</th>\n",
       "      <th>emp_length</th>\n",
       "      <th>home_ownership</th>\n",
       "      <th>verification_status</th>\n",
       "      <th>pymnt_plan</th>\n",
       "      <th>url</th>\n",
       "      <th>desc</th>\n",
       "      <th>...</th>\n",
       "      <th>hardship_status</th>\n",
       "      <th>hardship_start_date</th>\n",
       "      <th>hardship_end_date</th>\n",
       "      <th>payment_plan_start_date</th>\n",
       "      <th>hardship_loan_status</th>\n",
       "      <th>disbursement_method</th>\n",
       "      <th>debt_settlement_flag</th>\n",
       "      <th>debt_settlement_flag_date</th>\n",
       "      <th>settlement_status</th>\n",
       "      <th>settlement_date</th>\n",
       "    </tr>\n",
       "  </thead>\n",
       "  <tbody>\n",
       "    <tr>\n",
       "      <th>0</th>\n",
       "      <td>36 months</td>\n",
       "      <td>C</td>\n",
       "      <td>C4</td>\n",
       "      <td>leadman</td>\n",
       "      <td>10+ years</td>\n",
       "      <td>MORTGAGE</td>\n",
       "      <td>Not Verified</td>\n",
       "      <td>n</td>\n",
       "      <td>https://lendingclub.com/browse/loanDetail.acti...</td>\n",
       "      <td>NaN</td>\n",
       "      <td>...</td>\n",
       "      <td>NaN</td>\n",
       "      <td>NaN</td>\n",
       "      <td>NaN</td>\n",
       "      <td>NaN</td>\n",
       "      <td>NaN</td>\n",
       "      <td>Cash</td>\n",
       "      <td>N</td>\n",
       "      <td>NaN</td>\n",
       "      <td>NaN</td>\n",
       "      <td>NaN</td>\n",
       "    </tr>\n",
       "    <tr>\n",
       "      <th>1</th>\n",
       "      <td>36 months</td>\n",
       "      <td>C</td>\n",
       "      <td>C1</td>\n",
       "      <td>Engineer</td>\n",
       "      <td>10+ years</td>\n",
       "      <td>MORTGAGE</td>\n",
       "      <td>Not Verified</td>\n",
       "      <td>n</td>\n",
       "      <td>https://lendingclub.com/browse/loanDetail.acti...</td>\n",
       "      <td>NaN</td>\n",
       "      <td>...</td>\n",
       "      <td>NaN</td>\n",
       "      <td>NaN</td>\n",
       "      <td>NaN</td>\n",
       "      <td>NaN</td>\n",
       "      <td>NaN</td>\n",
       "      <td>Cash</td>\n",
       "      <td>N</td>\n",
       "      <td>NaN</td>\n",
       "      <td>NaN</td>\n",
       "      <td>NaN</td>\n",
       "    </tr>\n",
       "    <tr>\n",
       "      <th>2</th>\n",
       "      <td>60 months</td>\n",
       "      <td>B</td>\n",
       "      <td>B4</td>\n",
       "      <td>truck driver</td>\n",
       "      <td>10+ years</td>\n",
       "      <td>MORTGAGE</td>\n",
       "      <td>Not Verified</td>\n",
       "      <td>n</td>\n",
       "      <td>https://lendingclub.com/browse/loanDetail.acti...</td>\n",
       "      <td>NaN</td>\n",
       "      <td>...</td>\n",
       "      <td>NaN</td>\n",
       "      <td>NaN</td>\n",
       "      <td>NaN</td>\n",
       "      <td>NaN</td>\n",
       "      <td>NaN</td>\n",
       "      <td>Cash</td>\n",
       "      <td>N</td>\n",
       "      <td>NaN</td>\n",
       "      <td>NaN</td>\n",
       "      <td>NaN</td>\n",
       "    </tr>\n",
       "    <tr>\n",
       "      <th>4</th>\n",
       "      <td>60 months</td>\n",
       "      <td>F</td>\n",
       "      <td>F1</td>\n",
       "      <td>Contract Specialist</td>\n",
       "      <td>3 years</td>\n",
       "      <td>MORTGAGE</td>\n",
       "      <td>Source Verified</td>\n",
       "      <td>n</td>\n",
       "      <td>https://lendingclub.com/browse/loanDetail.acti...</td>\n",
       "      <td>NaN</td>\n",
       "      <td>...</td>\n",
       "      <td>NaN</td>\n",
       "      <td>NaN</td>\n",
       "      <td>NaN</td>\n",
       "      <td>NaN</td>\n",
       "      <td>NaN</td>\n",
       "      <td>Cash</td>\n",
       "      <td>N</td>\n",
       "      <td>NaN</td>\n",
       "      <td>NaN</td>\n",
       "      <td>NaN</td>\n",
       "    </tr>\n",
       "    <tr>\n",
       "      <th>5</th>\n",
       "      <td>36 months</td>\n",
       "      <td>C</td>\n",
       "      <td>C3</td>\n",
       "      <td>Veterinary Tecnician</td>\n",
       "      <td>4 years</td>\n",
       "      <td>RENT</td>\n",
       "      <td>Source Verified</td>\n",
       "      <td>n</td>\n",
       "      <td>https://lendingclub.com/browse/loanDetail.acti...</td>\n",
       "      <td>NaN</td>\n",
       "      <td>...</td>\n",
       "      <td>NaN</td>\n",
       "      <td>NaN</td>\n",
       "      <td>NaN</td>\n",
       "      <td>NaN</td>\n",
       "      <td>NaN</td>\n",
       "      <td>Cash</td>\n",
       "      <td>N</td>\n",
       "      <td>NaN</td>\n",
       "      <td>NaN</td>\n",
       "      <td>NaN</td>\n",
       "    </tr>\n",
       "  </tbody>\n",
       "</table>\n",
       "<p>5 rows × 35 columns</p>\n",
       "</div>"
      ],
      "text/plain": [
       "         term grade sub_grade             emp_title emp_length home_ownership  \\\n",
       "0   36 months     C        C4               leadman  10+ years       MORTGAGE   \n",
       "1   36 months     C        C1              Engineer  10+ years       MORTGAGE   \n",
       "2   60 months     B        B4          truck driver  10+ years       MORTGAGE   \n",
       "4   60 months     F        F1   Contract Specialist    3 years       MORTGAGE   \n",
       "5   36 months     C        C3  Veterinary Tecnician    4 years           RENT   \n",
       "\n",
       "  verification_status pymnt_plan  \\\n",
       "0        Not Verified          n   \n",
       "1        Not Verified          n   \n",
       "2        Not Verified          n   \n",
       "4     Source Verified          n   \n",
       "5     Source Verified          n   \n",
       "\n",
       "                                                 url desc  ...  \\\n",
       "0  https://lendingclub.com/browse/loanDetail.acti...  NaN  ...   \n",
       "1  https://lendingclub.com/browse/loanDetail.acti...  NaN  ...   \n",
       "2  https://lendingclub.com/browse/loanDetail.acti...  NaN  ...   \n",
       "4  https://lendingclub.com/browse/loanDetail.acti...  NaN  ...   \n",
       "5  https://lendingclub.com/browse/loanDetail.acti...  NaN  ...   \n",
       "\n",
       "  hardship_status hardship_start_date hardship_end_date  \\\n",
       "0             NaN                 NaN               NaN   \n",
       "1             NaN                 NaN               NaN   \n",
       "2             NaN                 NaN               NaN   \n",
       "4             NaN                 NaN               NaN   \n",
       "5             NaN                 NaN               NaN   \n",
       "\n",
       "  payment_plan_start_date hardship_loan_status disbursement_method  \\\n",
       "0                     NaN                  NaN                Cash   \n",
       "1                     NaN                  NaN                Cash   \n",
       "2                     NaN                  NaN                Cash   \n",
       "4                     NaN                  NaN                Cash   \n",
       "5                     NaN                  NaN                Cash   \n",
       "\n",
       "  debt_settlement_flag debt_settlement_flag_date settlement_status  \\\n",
       "0                    N                       NaN               NaN   \n",
       "1                    N                       NaN               NaN   \n",
       "2                    N                       NaN               NaN   \n",
       "4                    N                       NaN               NaN   \n",
       "5                    N                       NaN               NaN   \n",
       "\n",
       "  settlement_date  \n",
       "0             NaN  \n",
       "1             NaN  \n",
       "2             NaN  \n",
       "4             NaN  \n",
       "5             NaN  \n",
       "\n",
       "[5 rows x 35 columns]"
      ]
     },
     "execution_count": 5,
     "metadata": {},
     "output_type": "execute_result"
    }
   ],
   "source": [
    "X.select_dtypes('object').head()"
   ]
  },
  {
   "cell_type": "markdown",
   "metadata": {},
   "source": [
    "The features `earliest_cr_line` and `sec_app_earliest_cr_line` are dates and their type should be changed to `datetime`. Later they will be transformed to ordinal numeric features by the machine learning model."
   ]
  },
  {
   "cell_type": "code",
   "execution_count": 6,
   "metadata": {},
   "outputs": [],
   "source": [
    "X['earliest_cr_line'] = pd.to_datetime(X['earliest_cr_line'], infer_datetime_format=True)\n",
    "X['last_credit_pull_d'] = pd.to_datetime(X['last_credit_pull_d'], infer_datetime_format=True)\n",
    "X['last_pymnt_d'] = pd.to_datetime(X['last_pymnt_d'], infer_datetime_format=True)\n",
    "X['sec_app_earliest_cr_line'] = pd.to_datetime(X['sec_app_earliest_cr_line'], infer_datetime_format=True)"
   ]
  },
  {
   "cell_type": "markdown",
   "metadata": {},
   "source": [
    "The features `emp_length` and `id` are numeric and their type should be changed to `float`. In case of `emp_length` I replace the extreme cases of \"< 1 year\" and \"10+ years\" with \"0 years\" and \"11 years\" respectively to separate these groups from the rest."
   ]
  },
  {
   "cell_type": "code",
   "execution_count": 7,
   "metadata": {},
   "outputs": [],
   "source": [
    "X['emp_length'] = X['emp_length'].replace({'< 1 year': '0 years', '10+ years': '11 years'})\n",
    "X['emp_length'] = X['emp_length'].str.extract('(\\d+)').astype('float')"
   ]
  },
  {
   "cell_type": "markdown",
   "metadata": {},
   "source": [
    "Then the data is split into the training and testing part. All analysis will be performed on the training dataset in order to prevent any data leakage."
   ]
  },
  {
   "cell_type": "code",
   "execution_count": 8,
   "metadata": {},
   "outputs": [],
   "source": [
    "X_train, X_test, y_train, y_test = train_test_split(\n",
    "        X.drop(columns=['target']), X['target'], test_size=0.2, stratify=X['target'],\n",
    "        random_state=42\n",
    "    )\n",
    "X_train['target'] = y_train\n",
    "X_test['target'] = y_test"
   ]
  },
  {
   "cell_type": "markdown",
   "metadata": {},
   "source": [
    "## 2.3. Missing values\n",
    "\n",
    "Although the machine learning model used here can deal with missing values, it is a good practice to do it yourself or ideally with a domain expert. Below is the table of columns with missing values and their ratio to the total number of rows."
   ]
  },
  {
   "cell_type": "code",
   "execution_count": 9,
   "metadata": {},
   "outputs": [
    {
     "data": {
      "text/plain": [
       "desc                                          0.908937\n",
       "next_pymnt_d                                  0.973148\n",
       "debt_settlement_flag_date                     0.975247\n",
       "settlement_date                               0.975247\n",
       "settlement_amount                             0.975247\n",
       "settlement_status                             0.975247\n",
       "settlement_term                               0.975247\n",
       "settlement_percentage                         0.975247\n",
       "annual_inc_joint                              0.978502\n",
       "dti_joint                                     0.978505\n",
       "verification_status_joint                     0.978690\n",
       "sec_app_inq_last_6mths                        0.983896\n",
       "sec_app_fico_range_low                        0.983896\n",
       "sec_app_earliest_cr_line                      0.983896\n",
       "sec_app_fico_range_high                       0.983896\n",
       "sec_app_chargeoff_within_12_mths              0.983896\n",
       "sec_app_num_rev_accts                         0.983896\n",
       "sec_app_open_act_il                           0.983896\n",
       "sec_app_open_acc                              0.983896\n",
       "sec_app_mort_acc                              0.983896\n",
       "sec_app_collections_12_mths_ex_med            0.983896\n",
       "revol_bal_joint                               0.983897\n",
       "sec_app_revol_util                            0.984172\n",
       "sec_app_mths_since_last_major_derog           0.994116\n",
       "hardship_payoff_balance_amount                0.994254\n",
       "hardship_last_payment_amount                  0.994254\n",
       "hardship_loan_status                          0.994254\n",
       "hardship_start_date                           0.994254\n",
       "hardship_length                               0.994254\n",
       "payment_plan_start_date                       0.994254\n",
       "hardship_end_date                             0.994254\n",
       "hardship_amount                               0.994254\n",
       "deferral_term                                 0.994254\n",
       "hardship_status                               0.994254\n",
       "hardship_reason                               0.994254\n",
       "hardship_type                                 0.994254\n",
       "hardship_dpd                                  0.994254\n",
       "orig_projected_additional_accrued_interest    0.995819\n",
       "member_id                                     1.000000\n",
       "dtype: float64"
      ]
     },
     "execution_count": 9,
     "metadata": {},
     "output_type": "execute_result"
    }
   ],
   "source": [
    "nan_mean = X_train.isna().mean()\n",
    "nan_mean = nan_mean[nan_mean != 0].sort_values()\n",
    "nan_mean[nan_mean > 0.9]"
   ]
  },
  {
   "cell_type": "code",
   "execution_count": 10,
   "metadata": {},
   "outputs": [],
   "source": [
    "X_train = X_train.drop(nan_mean[nan_mean > 0.9].keys(), axis=1, errors='ignore')\n",
    "X_test = X_test.drop(nan_mean[nan_mean > 0.9].keys(), axis=1, errors='ignore')"
   ]
  },
  {
   "cell_type": "markdown",
   "metadata": {},
   "source": [
    "For categorical features `emp_title` the missing values should be filled with an empty string so these features are placed in the list `fill_empty`.\n",
    "\n",
    "For some of the numeric features the missing values should be filled using the maximum value of the respective columns so these features are placed in the list `fill_max`. For example, the feature `mths_since_last_record` indicates the number of months since the last record (like bankruptcy, foreclosure, tax liens, etc.) so if missing, one should assume that no records were made and the number of months since the \"last\" record should be a maximum.\n",
    "\n",
    "For the rest of the numeric features the missing values should be filled using the minimum value of the respective columns so these features are placed in the list `fill_min`. For example, the feature `emp_length` indicates the number of working years so if missing, one should assume that the borrower never worked and the number of working years should be a minimum.\n",
    "\n",
    "The rest of the categorical columns are filled using the most frequent values."
   ]
  },
  {
   "cell_type": "code",
   "execution_count": 11,
   "metadata": {},
   "outputs": [],
   "source": [
    "fill_empty = ['emp_title']\n",
    "fill_max = ['bc_open_to_buy', 'mo_sin_old_il_acct', 'mths_since_last_delinq',\n",
    "            'mths_since_last_major_derog', 'mths_since_last_record',\n",
    "            'mths_since_rcnt_il', 'mths_since_recent_bc', 'mths_since_recent_bc_dlq',\n",
    "            'mths_since_recent_inq', 'mths_since_recent_revol_delinq',\n",
    "            'pct_tl_nvr_dlq']\n",
    "fill_min = np.setdiff1d(X_train.columns.values, np.append(fill_empty, fill_max))\n",
    "\n",
    "X_train[fill_empty] = X_train[fill_empty].fillna('')\n",
    "X_test[fill_empty] = X_test[fill_empty].fillna('')\n",
    "X_train[fill_max] = X_train[fill_max].fillna(X_train[fill_max].max(numeric_only=True))\n",
    "X_test[fill_max] = X_test[fill_max].fillna(X_train[fill_max].max(numeric_only=True))\n",
    "X_train[fill_min] = X_train[fill_min].fillna(X_train[fill_min].min(numeric_only=True))\n",
    "X_test[fill_min] = X_test[fill_min].fillna(X_train[fill_min].min(numeric_only=True))\n",
    "\n",
    "fill_most_frequent = np.setdiff1d(X_train.select_dtypes('object').columns.values, fill_empty)\n",
    "X_train[fill_most_frequent] = X_train[fill_most_frequent].fillna(X_train[fill_most_frequent].mode().iloc[0])\n",
    "X_test[fill_most_frequent] = X_test[fill_most_frequent].fillna(X_train[fill_most_frequent].mode().iloc[0])"
   ]
  },
  {
   "cell_type": "markdown",
   "metadata": {},
   "source": [
    "## 2.3. Multicollinearity\n",
    "\n",
    "Although highly correlated features (*multicollinearity*) aren't a problem for the machine learning models based on decision trees (as used here), these features decrease importances of each other and can make feature analysis more difficult. Therefore, I calculate feature correlations and remove the features with very high correlation coefficients before applying machine learning.\n",
    "\n",
    "I start with numeric features and before calculating their correlations, it's a good practice to look at the number of their unique values."
   ]
  },
  {
   "cell_type": "code",
   "execution_count": 12,
   "metadata": {},
   "outputs": [
    {
     "data": {
      "text/plain": [
       "policy_code               1\n",
       "target                    2\n",
       "num_tl_30dpd              5\n",
       "num_tl_120dpd_2m          6\n",
       "acc_now_delinq            8\n",
       "                     ...   \n",
       "tot_hi_cred_lim      392216\n",
       "total_rec_int        475261\n",
       "last_pymnt_amnt      590210\n",
       "total_pymnt_inv      863846\n",
       "total_pymnt         1041761\n",
       "Length: 90, dtype: int64"
      ]
     },
     "execution_count": 12,
     "metadata": {},
     "output_type": "execute_result"
    }
   ],
   "source": [
    "num_feat = X_train.select_dtypes('number').columns.values\n",
    "X_train[num_feat].nunique().sort_values()"
   ]
  },
  {
   "cell_type": "code",
   "execution_count": 13,
   "metadata": {},
   "outputs": [],
   "source": [
    "X_train = X_train.drop(['policy_code'], axis=1, errors='ignore')\n",
    "X_test = X_test.drop(['policy_code'], axis=1, errors='ignore')"
   ]
  },
  {
   "cell_type": "markdown",
   "metadata": {},
   "source": [
    "For all pairs of the numeric features `comb_num_feat` I calculate their Pearson's R correlation coefficient and store it in `corr_num_feat`."
   ]
  },
  {
   "cell_type": "code",
   "execution_count": 14,
   "metadata": {},
   "outputs": [],
   "source": [
    "num_feat = X_train.select_dtypes('number').columns.values\n",
    "comb_num_feat = np.array(list(combinations(num_feat, 2)))\n",
    "corr_num_feat = np.array([])\n",
    "for comb in comb_num_feat:\n",
    "    corr = pearsonr(X_train[comb[0]], X_train[comb[1]])[0]\n",
    "    corr_num_feat = np.append(corr_num_feat, corr)"
   ]
  },
  {
   "cell_type": "markdown",
   "metadata": {},
   "source": [
    "The highly correlated pairs with the absolute value of their correlation coefficient ≥0.9 are printed below."
   ]
  },
  {
   "cell_type": "code",
   "execution_count": 15,
   "metadata": {},
   "outputs": [
    {
     "data": {
      "text/plain": [
       "array([['loan_amnt', 'funded_amnt'],\n",
       "       ['loan_amnt', 'funded_amnt_inv'],\n",
       "       ['loan_amnt', 'installment'],\n",
       "       ['funded_amnt', 'funded_amnt_inv'],\n",
       "       ['funded_amnt', 'installment'],\n",
       "       ['funded_amnt_inv', 'installment'],\n",
       "       ['fico_range_low', 'fico_range_high'],\n",
       "       ['open_acc', 'num_sats'],\n",
       "       ['out_prncp', 'out_prncp_inv'],\n",
       "       ['total_pymnt', 'total_pymnt_inv'],\n",
       "       ['total_pymnt', 'total_rec_prncp'],\n",
       "       ['total_pymnt_inv', 'total_rec_prncp'],\n",
       "       ['recoveries', 'collection_recovery_fee'],\n",
       "       ['tot_cur_bal', 'tot_hi_cred_lim'],\n",
       "       ['bc_open_to_buy', 'mths_since_recent_bc'],\n",
       "       ['num_actv_rev_tl', 'num_rev_tl_bal_gt_0']], dtype='<U30')"
      ]
     },
     "execution_count": 15,
     "metadata": {},
     "output_type": "execute_result"
    }
   ],
   "source": [
    "high_corr_num = comb_num_feat[np.abs(corr_num_feat) >= 0.9]\n",
    "high_corr_num"
   ]
  },
  {
   "cell_type": "markdown",
   "metadata": {},
   "source": [
    "The first feature (chosen arbitrarily) from each highly correlated feature pair is then removed."
   ]
  },
  {
   "cell_type": "code",
   "execution_count": 16,
   "metadata": {},
   "outputs": [],
   "source": [
    "X_train = X_train.drop(np.unique(high_corr_num[:, 0]), axis=1, errors='ignore')\n",
    "X_test = X_test.drop(np.unique(high_corr_num[:, 0]), axis=1, errors='ignore')"
   ]
  },
  {
   "cell_type": "markdown",
   "metadata": {},
   "source": [
    "Then I print out the number of unique values for categorical features."
   ]
  },
  {
   "cell_type": "code",
   "execution_count": 17,
   "metadata": {},
   "outputs": [
    {
     "data": {
      "text/plain": [
       "term                          2\n",
       "hardship_flag                 2\n",
       "application_type              2\n",
       "initial_list_status           2\n",
       "disbursement_method           2\n",
       "pymnt_plan                    2\n",
       "debt_settlement_flag          2\n",
       "verification_status           3\n",
       "home_ownership                6\n",
       "grade                         7\n",
       "purpose                      14\n",
       "sub_grade                    35\n",
       "addr_state                   51\n",
       "zip_code                    933\n",
       "title                     52151\n",
       "emp_title                322599\n",
       "url                     1105880\n",
       "dtype: int64"
      ]
     },
     "execution_count": 17,
     "metadata": {},
     "output_type": "execute_result"
    }
   ],
   "source": [
    "cat_feat = X_train.select_dtypes('object').columns.values\n",
    "X_train[cat_feat].nunique(dropna=False).sort_values()"
   ]
  },
  {
   "cell_type": "markdown",
   "metadata": {},
   "source": [
    "The feature `url` has a unique value for each entry and should be removed to avoid overfitting. The feature `emp_title` has very large number of unique values and leads to the memory error when creating a contingency table, therefore I remove it as well. I remove also the feature `debt_settlement_flag` since it's available only after the loan is settled."
   ]
  },
  {
   "cell_type": "code",
   "execution_count": 18,
   "metadata": {},
   "outputs": [],
   "source": [
    "X_train = X_train.drop(['url', 'emp_title', 'debt_settlement_flag'], axis=1, errors='ignore')\n",
    "X_test = X_test.drop(['url', 'emp_title', 'debt_settlement_flag'], axis=1, errors='ignore')"
   ]
  },
  {
   "cell_type": "markdown",
   "metadata": {},
   "source": [
    "For all pairs of the categorical features `comb_cat_feat` I calculate the Cramer's V correlation coefficient that is expressed through the chi-square statistic $\\chi^2$ of the contingency table:\n",
    "\n",
    "$$ V = \\sqrt{ \\frac{ \\chi^2 }{ n (\\text{min}(K_1, K_2) - 1) } } $$\n",
    "\n",
    "where $n$ is the sum of all elements in the contingency table, $K_1$ and $K_2$ are the dimensions of the contingency table. Note that Pearson's R correlation coefficient isn't applicable to categorical features and shouldn't be used."
   ]
  },
  {
   "cell_type": "code",
   "execution_count": 19,
   "metadata": {},
   "outputs": [],
   "source": [
    "cat_feat = X_train.select_dtypes('object').columns.values\n",
    "comb_cat_feat = np.array(list(combinations(cat_feat, 2)))\n",
    "corr_cat_feat = np.array([])\n",
    "for comb in comb_cat_feat:\n",
    "    table = pd.pivot_table(X_train, values='target', index=comb[0], columns=comb[1], aggfunc='count').fillna(0)\n",
    "    corr = np.sqrt(chi2_contingency(table)[0] / (table.values.sum() * (np.min(table.shape) - 1) ) )\n",
    "    corr_cat_feat = np.append(corr_cat_feat, corr)"
   ]
  },
  {
   "cell_type": "markdown",
   "metadata": {},
   "source": [
    "The highly correlated pairs with the absolute value of their correlation coefficient ≥0.9 are printed below."
   ]
  },
  {
   "cell_type": "code",
   "execution_count": 20,
   "metadata": {},
   "outputs": [
    {
     "data": {
      "text/plain": [
       "array([['grade', 'sub_grade'],\n",
       "       ['purpose', 'title'],\n",
       "       ['zip_code', 'addr_state']], dtype='<U19')"
      ]
     },
     "execution_count": 20,
     "metadata": {},
     "output_type": "execute_result"
    }
   ],
   "source": [
    "high_corr_cat = comb_cat_feat[corr_cat_feat >= 0.9]\n",
    "high_corr_cat"
   ]
  },
  {
   "cell_type": "markdown",
   "metadata": {},
   "source": [
    "This time I remove the feature with more unique values from each highly correlated feature pair in order to reduce the number of options."
   ]
  },
  {
   "cell_type": "code",
   "execution_count": 21,
   "metadata": {},
   "outputs": [],
   "source": [
    "cat_to_drop = ['sub_grade', 'title', 'zip_code']\n",
    "X_train = X_train.drop(columns=cat_to_drop, axis=1)\n",
    "X_test = X_test.drop(columns=cat_to_drop, axis=1)"
   ]
  },
  {
   "cell_type": "markdown",
   "metadata": {},
   "source": [
    "Lastly I encode all categorical features using the one-hot method, which leaves us with 173 features."
   ]
  },
  {
   "cell_type": "code",
   "execution_count": 25,
   "metadata": {},
   "outputs": [
    {
     "data": {
      "text/plain": [
       "(1105907, 174)"
      ]
     },
     "execution_count": 25,
     "metadata": {},
     "output_type": "execute_result"
    }
   ],
   "source": [
    "from sklearn.compose import ColumnTransformer\n",
    "from sklearn.preprocessing import OneHotEncoder\n",
    "\n",
    "oh_columns = X_train.select_dtypes('object').columns.values\n",
    "column_trans = ColumnTransformer(\n",
    "    [('categories', OneHotEncoder(dtype='int', sparse=False), oh_columns)],\n",
    "    remainder='passthrough', verbose_feature_names_out=False)\n",
    "\n",
    "X_train_encoded = column_trans.fit_transform(X_train)\n",
    "X_test_encoded = column_trans.transform(X_test)\n",
    "X_train_encoded.shape"
   ]
  }
 ],
 "metadata": {
  "kernelspec": {
   "display_name": "Python 3.9.7",
   "language": "python",
   "name": "python3"
  },
  "language_info": {
   "codemirror_mode": {
    "name": "ipython",
    "version": 3
   },
   "file_extension": ".py",
   "mimetype": "text/x-python",
   "name": "python",
   "nbconvert_exporter": "python",
   "pygments_lexer": "ipython3",
   "version": "3.9.7"
  },
  "vscode": {
   "interpreter": {
    "hash": "c05dfa14102612e2962a4bf5491561e53837f2af21de731e01770c26933aef7f"
   }
  },
  "widgets": {
   "application/vnd.jupyter.widget-state+json": {
    "state": {
     "09d9a77cf1514d1d94ae2d20d8d3e902": {
      "model_module": "@jupyter-widgets/base",
      "model_module_version": "1.2.0",
      "model_name": "LayoutModel",
      "state": {
       "_model_module": "@jupyter-widgets/base",
       "_model_module_version": "1.2.0",
       "_model_name": "LayoutModel",
       "_view_count": null,
       "_view_module": "@jupyter-widgets/base",
       "_view_module_version": "1.2.0",
       "_view_name": "LayoutView",
       "align_content": null,
       "align_items": null,
       "align_self": "stretch",
       "border": null,
       "bottom": null,
       "display": null,
       "flex": null,
       "flex_flow": null,
       "grid_area": null,
       "grid_auto_columns": null,
       "grid_auto_flow": null,
       "grid_auto_rows": null,
       "grid_column": null,
       "grid_gap": null,
       "grid_row": null,
       "grid_template_areas": null,
       "grid_template_columns": null,
       "grid_template_rows": null,
       "height": "500px",
       "justify_content": null,
       "justify_items": null,
       "left": null,
       "margin": null,
       "max_height": null,
       "max_width": null,
       "min_height": null,
       "min_width": null,
       "object_fit": null,
       "object_position": null,
       "order": null,
       "overflow": null,
       "overflow_x": null,
       "overflow_y": null,
       "padding": null,
       "right": null,
       "top": null,
       "visibility": null,
       "width": null
      }
     },
     "b2a16ebf365c40b2bc866bcf75c63c08": {
      "model_module": "@jupyter-widgets/base",
      "model_module_version": "1.2.0",
      "model_name": "DOMWidgetModel",
      "state": {
       "_dom_classes": [],
       "_model_module": "@jupyter-widgets/base",
       "_model_module_version": "1.2.0",
       "_model_name": "DOMWidgetModel",
       "_view_count": null,
       "_view_module": "catboost_module",
       "_view_module_version": "",
       "_view_name": "CatboostIpythonWidgetView",
       "data": {
        "catboost_info": {
         "content": {
          "data": {
           "iterations": [
            {
             "iteration": 0,
             "learn": [
              0.6917195651
             ],
             "passed_time": 0.1247384576,
             "remaining_time": 124.6137191,
             "test": [
              0.6921406638
             ]
            },
            {
             "iteration": 1,
             "learn": [
              0.6903907445
             ],
             "passed_time": 0.190765875,
             "remaining_time": 95.19217161,
             "test": [
              0.6913677965
             ]
            },
            {
             "iteration": 2,
             "learn": [
              0.6895023617
             ],
             "passed_time": 0.2538458347,
             "remaining_time": 84.3614324,
             "test": [
              0.6907911856
             ]
            },
            {
             "iteration": 3,
             "learn": [
              0.6881423962
             ],
             "passed_time": 0.3222864096,
             "remaining_time": 80.24931599,
             "test": [
              0.6901139958
             ]
            },
            {
             "iteration": 4,
             "learn": [
              0.6867644128
             ],
             "passed_time": 0.3998233135,
             "remaining_time": 79.56483939,
             "test": [
              0.6896561491
             ]
            },
            {
             "iteration": 5,
             "learn": [
              0.6850479489
             ],
             "passed_time": 0.4669359623,
             "remaining_time": 77.35572443,
             "test": [
              0.6890828978
             ]
            },
            {
             "iteration": 6,
             "learn": [
              0.6842844995
             ],
             "passed_time": 0.5189183307,
             "remaining_time": 73.61227177,
             "test": [
              0.688554169
             ]
            },
            {
             "iteration": 7,
             "learn": [
              0.6833014498
             ],
             "passed_time": 0.5847886415,
             "remaining_time": 72.51379155,
             "test": [
              0.6881764933
             ]
            },
            {
             "iteration": 8,
             "learn": [
              0.6820848043
             ],
             "passed_time": 0.6531559114,
             "remaining_time": 71.91972313,
             "test": [
              0.6876531611
             ]
            },
            {
             "iteration": 9,
             "learn": [
              0.6814210481
             ],
             "passed_time": 0.7185853342,
             "remaining_time": 71.13994809,
             "test": [
              0.6872529463
             ]
            },
            {
             "iteration": 10,
             "learn": [
              0.6807372859
             ],
             "passed_time": 0.7674517562,
             "remaining_time": 69.00088972,
             "test": [
              0.6873000257
             ]
            },
            {
             "iteration": 11,
             "learn": [
              0.680013008
             ],
             "passed_time": 0.8327260665,
             "remaining_time": 68.56111281,
             "test": [
              0.6871750971
             ]
            },
            {
             "iteration": 12,
             "learn": [
              0.6790871687
             ],
             "passed_time": 0.8985568238,
             "remaining_time": 68.22119885,
             "test": [
              0.686915498
             ]
            },
            {
             "iteration": 13,
             "learn": [
              0.6784030709
             ],
             "passed_time": 0.9692424475,
             "remaining_time": 68.26236094,
             "test": [
              0.6866477984
             ]
            },
            {
             "iteration": 14,
             "learn": [
              0.6775983005
             ],
             "passed_time": 1.039442823,
             "remaining_time": 68.25674535,
             "test": [
              0.6866444624
             ]
            },
            {
             "iteration": 15,
             "learn": [
              0.6766216231
             ],
             "passed_time": 1.105764084,
             "remaining_time": 68.00449118,
             "test": [
              0.6867346825
             ]
            },
            {
             "iteration": 16,
             "learn": [
              0.6760263941
             ],
             "passed_time": 1.170668757,
             "remaining_time": 67.69219929,
             "test": [
              0.6864516435
             ]
            },
            {
             "iteration": 17,
             "learn": [
              0.6751413771
             ],
             "passed_time": 1.237191478,
             "remaining_time": 67.49566841,
             "test": [
              0.6865062196
             ]
            },
            {
             "iteration": 18,
             "learn": [
              0.6737312889
             ],
             "passed_time": 1.310278636,
             "remaining_time": 67.65175482,
             "test": [
              0.6863127888
             ]
            },
            {
             "iteration": 19,
             "learn": [
              0.6726415042
             ],
             "passed_time": 1.389544161,
             "remaining_time": 68.08766387,
             "test": [
              0.6857528751
             ]
            },
            {
             "iteration": 20,
             "learn": [
              0.6718362488
             ],
             "passed_time": 1.456932896,
             "remaining_time": 67.92082406,
             "test": [
              0.6855989533
             ]
            },
            {
             "iteration": 21,
             "learn": [
              0.6708256178
             ],
             "passed_time": 1.52306394,
             "remaining_time": 67.70711515,
             "test": [
              0.6854309129
             ]
            },
            {
             "iteration": 22,
             "learn": [
              0.6702957463
             ],
             "passed_time": 1.588259175,
             "remaining_time": 67.46648758,
             "test": [
              0.6853159628
             ]
            },
            {
             "iteration": 23,
             "learn": [
              0.6699324261
             ],
             "passed_time": 1.654165707,
             "remaining_time": 67.26940542,
             "test": [
              0.6851866818
             ]
            },
            {
             "iteration": 24,
             "learn": [
              0.6690163308
             ],
             "passed_time": 1.718262507,
             "remaining_time": 67.01223778,
             "test": [
              0.6851578648
             ]
            },
            {
             "iteration": 25,
             "learn": [
              0.6684110187
             ],
             "passed_time": 1.790344543,
             "remaining_time": 67.06906094,
             "test": [
              0.685342114
             ]
            },
            {
             "iteration": 26,
             "learn": [
              0.6679894535
             ],
             "passed_time": 1.854098869,
             "remaining_time": 66.8162296,
             "test": [
              0.6851727386
             ]
            },
            {
             "iteration": 27,
             "learn": [
              0.6675800113
             ],
             "passed_time": 1.924405343,
             "remaining_time": 66.80435691,
             "test": [
              0.6849746752
             ]
            },
            {
             "iteration": 28,
             "learn": [
              0.6668750035
             ],
             "passed_time": 1.993165832,
             "remaining_time": 66.73669045,
             "test": [
              0.6849655282
             ]
            },
            {
             "iteration": 29,
             "learn": [
              0.6664699409
             ],
             "passed_time": 2.060477867,
             "remaining_time": 66.62211769,
             "test": [
              0.6848070939
             ]
            },
            {
             "iteration": 30,
             "learn": [
              0.6658356982
             ],
             "passed_time": 2.124426543,
             "remaining_time": 66.40546193,
             "test": [
              0.6845464237
             ]
            },
            {
             "iteration": 31,
             "learn": [
              0.665320386
             ],
             "passed_time": 2.189501937,
             "remaining_time": 66.2324336,
             "test": [
              0.6845996805
             ]
            },
            {
             "iteration": 32,
             "learn": [
              0.6649259705
             ],
             "passed_time": 2.254196993,
             "remaining_time": 66.05480279,
             "test": [
              0.68448729
             ]
            },
            {
             "iteration": 33,
             "learn": [
              0.6640070982
             ],
             "passed_time": 2.321867183,
             "remaining_time": 65.96834407,
             "test": [
              0.6845729768
             ]
            },
            {
             "iteration": 34,
             "learn": [
              0.6635126685
             ],
             "passed_time": 2.386858584,
             "remaining_time": 65.80910095,
             "test": [
              0.6843175572
             ]
            },
            {
             "iteration": 35,
             "learn": [
              0.6631259252
             ],
             "passed_time": 2.464802083,
             "remaining_time": 66.00192245,
             "test": [
              0.6844264383
             ]
            },
            {
             "iteration": 36,
             "learn": [
              0.6626166945
             ],
             "passed_time": 2.528111594,
             "remaining_time": 65.79922877,
             "test": [
              0.6844046233
             ]
            },
            {
             "iteration": 37,
             "learn": [
              0.6620054975
             ],
             "passed_time": 2.595188405,
             "remaining_time": 65.6992433,
             "test": [
              0.6841784442
             ]
            },
            {
             "iteration": 38,
             "learn": [
              0.6610829789
             ],
             "passed_time": 2.66084611,
             "remaining_time": 65.56597721,
             "test": [
              0.6847088184
             ]
            },
            {
             "iteration": 39,
             "learn": [
              0.660849118
             ],
             "passed_time": 2.69482957,
             "remaining_time": 64.67590968,
             "test": [
              0.6847927118
             ]
            },
            {
             "iteration": 40,
             "learn": [
              0.6607004948
             ],
             "passed_time": 2.754535877,
             "remaining_time": 64.42926599,
             "test": [
              0.6847233661
             ]
            },
            {
             "iteration": 41,
             "learn": [
              0.6602316672
             ],
             "passed_time": 2.8225955,
             "remaining_time": 64.38205926,
             "test": [
              0.6846989196
             ]
            },
            {
             "iteration": 42,
             "learn": [
              0.659936694
             ],
             "passed_time": 2.888850096,
             "remaining_time": 64.29371029,
             "test": [
              0.6846763208
             ]
            },
            {
             "iteration": 43,
             "learn": [
              0.6592980637
             ],
             "passed_time": 2.962418905,
             "remaining_time": 64.36528348,
             "test": [
              0.6844714012
             ]
            },
            {
             "iteration": 44,
             "learn": [
              0.6587105325
             ],
             "passed_time": 3.033282233,
             "remaining_time": 64.3729896,
             "test": [
              0.6849641683
             ]
            },
            {
             "iteration": 45,
             "learn": [
              0.658271752
             ],
             "passed_time": 3.09958358,
             "remaining_time": 64.28266815,
             "test": [
              0.6848402921
             ]
            },
            {
             "iteration": 46,
             "learn": [
              0.6573351155
             ],
             "passed_time": 3.167800264,
             "remaining_time": 64.23220535,
             "test": [
              0.684586424
             ]
            },
            {
             "iteration": 47,
             "learn": [
              0.6566029571
             ],
             "passed_time": 3.235816833,
             "remaining_time": 64.17703385,
             "test": [
              0.6844808487
             ]
            },
            {
             "iteration": 48,
             "learn": [
              0.6561853313
             ],
             "passed_time": 3.298485957,
             "remaining_time": 64.01755397,
             "test": [
              0.6845741462
             ]
            },
            {
             "iteration": 49,
             "learn": [
              0.6556454045
             ],
             "passed_time": 3.363224146,
             "remaining_time": 63.90125877,
             "test": [
              0.6846479079
             ]
            },
            {
             "iteration": 50,
             "learn": [
              0.6551863924
             ],
             "passed_time": 3.428454207,
             "remaining_time": 63.79613808,
             "test": [
              0.6844941806
             ]
            },
            {
             "iteration": 51,
             "learn": [
              0.6548177015
             ],
             "passed_time": 3.5107563,
             "remaining_time": 64.00378793,
             "test": [
              0.6844524191
             ]
            },
            {
             "iteration": 52,
             "learn": [
              0.6542517539
             ],
             "passed_time": 3.577556796,
             "remaining_time": 63.92351483,
             "test": [
              0.6841161972
             ]
            },
            {
             "iteration": 53,
             "learn": [
              0.6540266072
             ],
             "passed_time": 3.629887056,
             "remaining_time": 63.59024362,
             "test": [
              0.6840768244
             ]
            },
            {
             "iteration": 54,
             "learn": [
              0.6537323838
             ],
             "passed_time": 3.692933857,
             "remaining_time": 63.45131808,
             "test": [
              0.6841002074
             ]
            },
            {
             "iteration": 55,
             "learn": [
              0.6528968798
             ],
             "passed_time": 3.759012327,
             "remaining_time": 63.3662078,
             "test": [
              0.68427677
             ]
            },
            {
             "iteration": 56,
             "learn": [
              0.6525870028
             ],
             "passed_time": 3.823522596,
             "remaining_time": 63.2558212,
             "test": [
              0.6844526785
             ]
            },
            {
             "iteration": 57,
             "learn": [
              0.6521348114
             ],
             "passed_time": 3.891985241,
             "remaining_time": 63.21120857,
             "test": [
              0.6844629808
             ]
            },
            {
             "iteration": 58,
             "learn": [
              0.6518464504
             ],
             "passed_time": 3.96894733,
             "remaining_time": 63.30134641,
             "test": [
              0.6845367922
             ]
            },
            {
             "iteration": 59,
             "learn": [
              0.651481263
             ],
             "passed_time": 4.037907657,
             "remaining_time": 63.2605533,
             "test": [
              0.6843693016
             ]
            },
            {
             "iteration": 60,
             "learn": [
              0.6511694401
             ],
             "passed_time": 4.102603378,
             "remaining_time": 63.1531897,
             "test": [
              0.6841727924
             ]
            },
            {
             "iteration": 61,
             "learn": [
              0.6503758455
             ],
             "passed_time": 4.169382272,
             "remaining_time": 63.07871888,
             "test": [
              0.6845612568
             ]
            },
            {
             "iteration": 62,
             "learn": [
              0.6497051079
             ],
             "passed_time": 4.238702971,
             "remaining_time": 63.04229657,
             "test": [
              0.6847628018
             ]
            },
            {
             "iteration": 63,
             "learn": [
              0.6492736542
             ],
             "passed_time": 4.304312361,
             "remaining_time": 62.95056828,
             "test": [
              0.6846689659
             ]
            },
            {
             "iteration": 64,
             "learn": [
              0.6485942034
             ],
             "passed_time": 4.372432616,
             "remaining_time": 62.89576147,
             "test": [
              0.6848379644
             ]
            },
            {
             "iteration": 65,
             "learn": [
              0.6483397705
             ],
             "passed_time": 4.436471433,
             "remaining_time": 62.7827927,
             "test": [
              0.6847972312
             ]
            },
            {
             "iteration": 66,
             "learn": [
              0.6477425179
             ],
             "passed_time": 4.519613574,
             "remaining_time": 62.93730545,
             "test": [
              0.6850994236
             ]
            },
            {
             "iteration": 67,
             "learn": [
              0.6471912476
             ],
             "passed_time": 4.5860945,
             "remaining_time": 62.85647167,
             "test": [
              0.6850361555
             ]
            },
            {
             "iteration": 68,
             "learn": [
              0.6467502585
             ],
             "passed_time": 4.654099431,
             "remaining_time": 62.79661696,
             "test": [
              0.6850386823
             ]
            },
            {
             "iteration": 69,
             "learn": [
              0.6464513952
             ],
             "passed_time": 4.717029105,
             "remaining_time": 62.66910096,
             "test": [
              0.6853376186
             ]
            },
            {
             "iteration": 70,
             "learn": [
              0.6462218111
             ],
             "passed_time": 4.781739105,
             "remaining_time": 62.566699,
             "test": [
              0.6852949952
             ]
            },
            {
             "iteration": 71,
             "learn": [
              0.6454099433
             ],
             "passed_time": 4.852181437,
             "remaining_time": 62.53922741,
             "test": [
              0.6850677079
             ]
            },
            {
             "iteration": 72,
             "learn": [
              0.6451683149
             ],
             "passed_time": 4.919637852,
             "remaining_time": 62.4726615,
             "test": [
              0.6850463787
             ]
            },
            {
             "iteration": 73,
             "learn": [
              0.6449077433
             ],
             "passed_time": 4.973046781,
             "remaining_time": 62.23028809,
             "test": [
              0.6853549596
             ]
            },
            {
             "iteration": 74,
             "learn": [
              0.6446603073
             ],
             "passed_time": 5.035840165,
             "remaining_time": 62.10869536,
             "test": [
              0.6853595799
             ]
            },
            {
             "iteration": 75,
             "learn": [
              0.6444826256
             ],
             "passed_time": 5.09919669,
             "remaining_time": 61.9954966,
             "test": [
              0.6853557003
             ]
            },
            {
             "iteration": 76,
             "learn": [
              0.6442216947
             ],
             "passed_time": 5.168335678,
             "remaining_time": 61.95290689,
             "test": [
              0.6855055125
             ]
            },
            {
             "iteration": 77,
             "learn": [
              0.6440784083
             ],
             "passed_time": 5.23171947,
             "remaining_time": 61.84160707,
             "test": [
              0.6854796675
             ]
            },
            {
             "iteration": 78,
             "learn": [
              0.6434328639
             ],
             "passed_time": 5.299738478,
             "remaining_time": 61.78555871,
             "test": [
              0.6854444901
             ]
            },
            {
             "iteration": 79,
             "learn": [
              0.6431778509
             ],
             "passed_time": 5.363507566,
             "remaining_time": 61.68033701,
             "test": [
              0.6855881807
             ]
            },
            {
             "iteration": 80,
             "learn": [
              0.6429241841
             ],
             "passed_time": 5.427307559,
             "remaining_time": 61.57648947,
             "test": [
              0.685363825
             ]
            },
            {
             "iteration": 81,
             "learn": [
              0.6425632501
             ],
             "passed_time": 5.493533627,
             "remaining_time": 61.50077889,
             "test": [
              0.6853303318
             ]
            },
            {
             "iteration": 82,
             "learn": [
              0.6424434019
             ],
             "passed_time": 5.566276615,
             "remaining_time": 61.49729706,
             "test": [
              0.6852997609
             ]
            },
            {
             "iteration": 83,
             "learn": [
              0.6422439684
             ],
             "passed_time": 5.630674461,
             "remaining_time": 61.40116436,
             "test": [
              0.6851765473
             ]
            },
            {
             "iteration": 84,
             "learn": [
              0.6420282603
             ],
             "passed_time": 5.696251874,
             "remaining_time": 61.31847605,
             "test": [
              0.685093539
             ]
            },
            {
             "iteration": 85,
             "learn": [
              0.6417917442
             ],
             "passed_time": 5.761549142,
             "remaining_time": 61.23320833,
             "test": [
              0.6850746778
             ]
            },
            {
             "iteration": 86,
             "learn": [
              0.6417012406
             ],
             "passed_time": 5.827165391,
             "remaining_time": 61.15174715,
             "test": [
              0.6850385497
             ]
            },
            {
             "iteration": 87,
             "learn": [
              0.6413050582
             ],
             "passed_time": 5.895812265,
             "remaining_time": 61.10205438,
             "test": [
              0.6847871281
             ]
            },
            {
             "iteration": 88,
             "learn": [
              0.6409928652
             ],
             "passed_time": 5.962907008,
             "remaining_time": 61.03604814,
             "test": [
              0.6847109845
             ]
            },
            {
             "iteration": 89,
             "learn": [
              0.6402804385
             ],
             "passed_time": 6.037246515,
             "remaining_time": 61.04327031,
             "test": [
              0.684671212
             ]
            },
            {
             "iteration": 90,
             "learn": [
              0.6398483554
             ],
             "passed_time": 6.101224584,
             "remaining_time": 60.94519941,
             "test": [
              0.6845209987
             ]
            },
            {
             "iteration": 91,
             "learn": [
              0.6396128896
             ],
             "passed_time": 6.166850567,
             "remaining_time": 60.86413386,
             "test": [
              0.6843465659
             ]
            },
            {
             "iteration": 92,
             "learn": [
              0.6395550375
             ],
             "passed_time": 6.233462255,
             "remaining_time": 60.7930136,
             "test": [
              0.6843269811
             ]
            },
            {
             "iteration": 93,
             "learn": [
              0.6392245319
             ],
             "passed_time": 6.297183416,
             "remaining_time": 60.69412952,
             "test": [
              0.6841265117
             ]
            },
            {
             "iteration": 94,
             "learn": [
              0.6386387853
             ],
             "passed_time": 6.363240464,
             "remaining_time": 60.6182381,
             "test": [
              0.6841655714
             ]
            },
            {
             "iteration": 95,
             "learn": [
              0.6386020252
             ],
             "passed_time": 6.395167182,
             "remaining_time": 60.22115763,
             "test": [
              0.6841195365
             ]
            },
            {
             "iteration": 96,
             "learn": [
              0.6384507346
             ],
             "passed_time": 6.462145241,
             "remaining_time": 60.15790879,
             "test": [
              0.684052873
             ]
            },
            {
             "iteration": 97,
             "learn": [
              0.6384067018
             ],
             "passed_time": 6.52511283,
             "remaining_time": 60.05767115,
             "test": [
              0.6840440812
             ]
            },
            {
             "iteration": 98,
             "learn": [
              0.6383813792
             ],
             "passed_time": 6.563807665,
             "remaining_time": 59.73727986,
             "test": [
              0.683998622
             ]
            },
            {
             "iteration": 99,
             "learn": [
              0.6382287665
             ],
             "passed_time": 6.627327176,
             "remaining_time": 59.64594459,
             "test": [
              0.6840765419
             ]
            },
            {
             "iteration": 100,
             "learn": [
              0.6378482748
             ],
             "passed_time": 6.693202726,
             "remaining_time": 59.5761312,
             "test": [
              0.6840723774
             ]
            },
            {
             "iteration": 101,
             "learn": [
              0.6376295668
             ],
             "passed_time": 6.757383442,
             "remaining_time": 59.49147383,
             "test": [
              0.6840270261
             ]
            },
            {
             "iteration": 102,
             "learn": [
              0.6375309296
             ],
             "passed_time": 6.819316969,
             "remaining_time": 59.3876439,
             "test": [
              0.6840422136
             ]
            },
            {
             "iteration": 103,
             "learn": [
              0.6371032578
             ],
             "passed_time": 6.886677481,
             "remaining_time": 59.33137522,
             "test": [
              0.6841297376
             ]
            },
            {
             "iteration": 104,
             "learn": [
              0.63657661
             ],
             "passed_time": 6.954201263,
             "remaining_time": 59.27628696,
             "test": [
              0.6841577636
             ]
            },
            {
             "iteration": 105,
             "learn": [
              0.6363686653
             ],
             "passed_time": 7.007745191,
             "remaining_time": 59.1030585,
             "test": [
              0.6842930971
             ]
            },
            {
             "iteration": 106,
             "learn": [
              0.6361523504
             ],
             "passed_time": 7.071773829,
             "remaining_time": 59.01957037,
             "test": [
              0.6842954859
             ]
            },
            {
             "iteration": 107,
             "learn": [
              0.6355516682
             ],
             "passed_time": 7.138025376,
             "remaining_time": 58.95480218,
             "test": [
              0.6840770298
             ]
            },
            {
             "iteration": 108,
             "learn": [
              0.6355293078
             ],
             "passed_time": 7.163955922,
             "remaining_time": 58.56041033,
             "test": [
              0.6840750315
             ]
            },
            {
             "iteration": 109,
             "learn": [
              0.635265054
             ],
             "passed_time": 7.230428534,
             "remaining_time": 58.50073995,
             "test": [
              0.6839864582
             ]
            },
            {
             "iteration": 110,
             "learn": [
              0.6349635261
             ],
             "passed_time": 7.294414685,
             "remaining_time": 58.42103293,
             "test": [
              0.6839903052
             ]
            },
            {
             "iteration": 111,
             "learn": [
              0.6344345186
             ],
             "passed_time": 7.358239876,
             "remaining_time": 58.34033044,
             "test": [
              0.6840277534
             ]
            },
            {
             "iteration": 112,
             "learn": [
              0.6339652327
             ],
             "passed_time": 7.422980232,
             "remaining_time": 58.26711031,
             "test": [
              0.6841375194
             ]
            },
            {
             "iteration": 113,
             "learn": [
              0.6339276759
             ],
             "passed_time": 7.456187333,
             "remaining_time": 57.94896471,
             "test": [
              0.6841541063
             ]
            },
            {
             "iteration": 114,
             "learn": [
              0.6335681266
             ],
             "passed_time": 7.522786144,
             "remaining_time": 57.89274555,
             "test": [
              0.6843216574
             ]
            },
            {
             "iteration": 115,
             "learn": [
              0.6331586916
             ],
             "passed_time": 7.603112038,
             "remaining_time": 57.94095726,
             "test": [
              0.6843716038
             ]
            },
            {
             "iteration": 116,
             "learn": [
              0.6327588736
             ],
             "passed_time": 7.66803523,
             "remaining_time": 57.87072742,
             "test": [
              0.6845612465
             ]
            },
            {
             "iteration": 117,
             "learn": [
              0.632618177
             ],
             "passed_time": 7.73151759,
             "remaining_time": 57.78981792,
             "test": [
              0.6845594175
             ]
            },
            {
             "iteration": 118,
             "learn": [
              0.6324589286
             ],
             "passed_time": 7.797443095,
             "remaining_time": 57.72728879,
             "test": [
              0.6846525637
             ]
            },
            {
             "iteration": 119,
             "learn": [
              0.6323915684
             ],
             "passed_time": 7.859971964,
             "remaining_time": 57.6397944,
             "test": [
              0.6846509034
             ]
            },
            {
             "iteration": 120,
             "learn": [
              0.6323859128
             ],
             "passed_time": 7.89671724,
             "remaining_time": 57.36540871,
             "test": [
              0.6846489014
             ]
            },
            {
             "iteration": 121,
             "learn": [
              0.6322426648
             ],
             "passed_time": 7.962469042,
             "remaining_time": 57.30367065,
             "test": [
              0.6846784751
             ]
            },
            {
             "iteration": 122,
             "learn": [
              0.6321881048
             ],
             "passed_time": 8.032858377,
             "remaining_time": 57.27493331,
             "test": [
              0.6846483807
             ]
            },
            {
             "iteration": 123,
             "learn": [
              0.6319810672
             ],
             "passed_time": 8.100522904,
             "remaining_time": 57.22627471,
             "test": [
              0.6848444401
             ]
            },
            {
             "iteration": 124,
             "learn": [
              0.6316986115
             ],
             "passed_time": 8.167073777,
             "remaining_time": 57.16951644,
             "test": [
              0.684899261
             ]
            },
            {
             "iteration": 125,
             "learn": [
              0.6316712818
             ],
             "passed_time": 8.229866214,
             "remaining_time": 57.08653231,
             "test": [
              0.6848979034
             ]
            },
            {
             "iteration": 126,
             "learn": [
              0.6316490236
             ],
             "passed_time": 8.277929547,
             "remaining_time": 56.90261807,
             "test": [
              0.6848972395
             ]
            },
            {
             "iteration": 127,
             "learn": [
              0.6316457697
             ],
             "passed_time": 8.312320932,
             "remaining_time": 56.62768635,
             "test": [
              0.6848959674
             ]
            },
            {
             "iteration": 128,
             "learn": [
              0.6315138505
             ],
             "passed_time": 8.380010746,
             "remaining_time": 56.58131287,
             "test": [
              0.6848605465
             ]
            },
            {
             "iteration": 129,
             "learn": [
              0.6315053941
             ],
             "passed_time": 8.445483385,
             "remaining_time": 56.51977342,
             "test": [
              0.6848573108
             ]
            },
            {
             "iteration": 130,
             "learn": [
              0.6312397031
             ],
             "passed_time": 8.512836631,
             "remaining_time": 56.4706491,
             "test": [
              0.6847578251
             ]
            },
            {
             "iteration": 131,
             "learn": [
              0.6310747067
             ],
             "passed_time": 8.577092308,
             "remaining_time": 56.40087972,
             "test": [
              0.6847587352
             ]
            },
            {
             "iteration": 132,
             "learn": [
              0.6306279166
             ],
             "passed_time": 8.657465723,
             "remaining_time": 56.43626152,
             "test": [
              0.684727769
             ]
            },
            {
             "iteration": 133,
             "learn": [
              0.6306119332
             ],
             "passed_time": 8.688859717,
             "remaining_time": 56.15337697,
             "test": [
              0.6847262206
             ]
            },
            {
             "iteration": 134,
             "learn": [
              0.6305934492
             ],
             "passed_time": 8.739234539,
             "remaining_time": 55.99583612,
             "test": [
              0.6847139003
             ]
            },
            {
             "iteration": 135,
             "learn": [
              0.6303229763
             ],
             "passed_time": 8.804943822,
             "remaining_time": 55.93729016,
             "test": [
              0.6846836919
             ]
            },
            {
             "iteration": 136,
             "learn": [
              0.6302804862
             ],
             "passed_time": 8.84530816,
             "remaining_time": 55.71898498,
             "test": [
              0.6846967724
             ]
            },
            {
             "iteration": 137,
             "learn": [
              0.6298345245
             ],
             "passed_time": 8.909939172,
             "remaining_time": 55.65483743,
             "test": [
              0.6850493838
             ]
            },
            {
             "iteration": 138,
             "learn": [
              0.6298208877
             ],
             "passed_time": 8.93960459,
             "remaining_time": 55.3740975,
             "test": [
              0.6850478846
             ]
            },
            {
             "iteration": 139,
             "learn": [
              0.6298003745
             ],
             "passed_time": 8.999026863,
             "remaining_time": 55.27973644,
             "test": [
              0.6850858893
             ]
            },
            {
             "iteration": 140,
             "learn": [
              0.6297962947
             ],
             "passed_time": 9.038268376,
             "remaining_time": 55.06292578,
             "test": [
              0.6850846454
             ]
            },
            {
             "iteration": 141,
             "learn": [
              0.6296792363
             ],
             "passed_time": 9.068582533,
             "remaining_time": 54.79467474,
             "test": [
              0.6849885916
             ]
            },
            {
             "iteration": 142,
             "learn": [
              0.629194582
             ],
             "passed_time": 9.133275617,
             "remaining_time": 54.73578464,
             "test": [
              0.685232201
             ]
            },
            {
             "iteration": 143,
             "learn": [
              0.6291820139
             ],
             "passed_time": 9.173801048,
             "remaining_time": 54.53315067,
             "test": [
              0.6852297018
             ]
            },
            {
             "iteration": 144,
             "learn": [
              0.6291705924
             ],
             "passed_time": 9.221096499,
             "remaining_time": 54.37267246,
             "test": [
              0.6852237933
             ]
            },
            {
             "iteration": 145,
             "learn": [
              0.6290950632
             ],
             "passed_time": 9.28797386,
             "remaining_time": 54.32828546,
             "test": [
              0.6853761393
             ]
            },
            {
             "iteration": 146,
             "learn": [
              0.6290846098
             ],
             "passed_time": 9.318408106,
             "remaining_time": 54.07212323,
             "test": [
              0.6853749158
             ]
            },
            {
             "iteration": 147,
             "learn": [
              0.6288688691
             ],
             "passed_time": 9.384117024,
             "remaining_time": 54.02207909,
             "test": [
              0.6854685643
             ]
            },
            {
             "iteration": 148,
             "learn": [
              0.6288588035
             ],
             "passed_time": 9.415619944,
             "remaining_time": 53.77646022,
             "test": [
              0.6854822383
             ]
            },
            {
             "iteration": 149,
             "learn": [
              0.6284826605
             ],
             "passed_time": 9.503877113,
             "remaining_time": 53.85530364,
             "test": [
              0.6855701996
             ]
            },
            {
             "iteration": 150,
             "learn": [
              0.6284315231
             ],
             "passed_time": 9.571723816,
             "remaining_time": 53.81717563,
             "test": [
              0.6855696999
             ]
            },
            {
             "iteration": 151,
             "learn": [
              0.6284192777
             ],
             "passed_time": 9.610623071,
             "remaining_time": 53.61716029,
             "test": [
              0.6855676878
             ]
            },
            {
             "iteration": 152,
             "learn": [
              0.628028806
             ],
             "passed_time": 9.688306516,
             "remaining_time": 53.63395829,
             "test": [
              0.6855477894
             ]
            },
            {
             "iteration": 153,
             "learn": [
              0.6279755249
             ],
             "passed_time": 9.751089417,
             "remaining_time": 53.56767303,
             "test": [
              0.6855339635
             ]
            },
            {
             "iteration": 154,
             "learn": [
              0.6274624547
             ],
             "passed_time": 9.820986466,
             "remaining_time": 53.54021654,
             "test": [
              0.6854692362
             ]
            },
            {
             "iteration": 155,
             "learn": [
              0.6274589275
             ],
             "passed_time": 9.858845242,
             "remaining_time": 53.33888067,
             "test": [
              0.6854682249
             ]
            },
            {
             "iteration": 156,
             "learn": [
              0.627294722
             ],
             "passed_time": 9.924080216,
             "remaining_time": 53.2866218,
             "test": [
              0.6854941774
             ]
            },
            {
             "iteration": 157,
             "learn": [
              0.6272871409
             ],
             "passed_time": 9.959130063,
             "remaining_time": 53.07333869,
             "test": [
              0.6854931401
             ]
            },
            {
             "iteration": 158,
             "learn": [
              0.6271538064
             ],
             "passed_time": 10.03785145,
             "remaining_time": 53.09328973,
             "test": [
              0.6854752693
             ]
            },
            {
             "iteration": 159,
             "learn": [
              0.6271512458
             ],
             "passed_time": 10.08265024,
             "remaining_time": 52.93391375,
             "test": [
              0.6854744764
             ]
            },
            {
             "iteration": 160,
             "learn": [
              0.627148762
             ],
             "passed_time": 10.11788444,
             "remaining_time": 52.72611829,
             "test": [
              0.6854736888
             ]
            },
            {
             "iteration": 161,
             "learn": [
              0.6266728975
             ],
             "passed_time": 10.18334787,
             "remaining_time": 52.67682415,
             "test": [
              0.6855410284
             ]
            },
            {
             "iteration": 162,
             "learn": [
              0.6266713503
             ],
             "passed_time": 10.21195088,
             "remaining_time": 52.4380545,
             "test": [
              0.6855402699
             ]
            },
            {
             "iteration": 163,
             "learn": [
              0.6264518087
             ],
             "passed_time": 10.27888309,
             "remaining_time": 52.39723334,
             "test": [
              0.6854770592
             ]
            },
            {
             "iteration": 164,
             "learn": [
              0.6264515802
             ],
             "passed_time": 10.30944138,
             "remaining_time": 52.17202153,
             "test": [
              0.6854764309
             ]
            },
            {
             "iteration": 165,
             "learn": [
              0.6262611074
             ],
             "passed_time": 10.35698032,
             "remaining_time": 52.03446739,
             "test": [
              0.6856080047
             ]
            },
            {
             "iteration": 166,
             "learn": [
              0.6262506301
             ],
             "passed_time": 10.41679774,
             "remaining_time": 51.95923664,
             "test": [
              0.6856057139
             ]
            },
            {
             "iteration": 167,
             "learn": [
              0.6262478234
             ],
             "passed_time": 10.44526715,
             "remaining_time": 51.72894209,
             "test": [
              0.6856049205
             ]
            },
            {
             "iteration": 168,
             "learn": [
              0.6259856352
             ],
             "passed_time": 10.5129499,
             "remaining_time": 51.69385423,
             "test": [
              0.685806215
             ]
            },
            {
             "iteration": 169,
             "learn": [
              0.6259824594
             ],
             "passed_time": 10.55528384,
             "remaining_time": 51.53462111,
             "test": [
              0.6858053269
             ]
            },
            {
             "iteration": 170,
             "learn": [
              0.6259728375
             ],
             "passed_time": 10.62046775,
             "remaining_time": 51.48753079,
             "test": [
              0.6858075909
             ]
            },
            {
             "iteration": 171,
             "learn": [
              0.6258978852
             ],
             "passed_time": 10.68720121,
             "remaining_time": 51.44768957,
             "test": [
              0.6859721594
             ]
            },
            {
             "iteration": 172,
             "learn": [
              0.6258966819
             ],
             "passed_time": 10.71660023,
             "remaining_time": 51.22906585,
             "test": [
              0.6859714979
             ]
            },
            {
             "iteration": 173,
             "learn": [
              0.6258847097
             ],
             "passed_time": 10.74779328,
             "remaining_time": 51.02113363,
             "test": [
              0.6859710449
             ]
            },
            {
             "iteration": 174,
             "learn": [
              0.625884412
             ],
             "passed_time": 10.77823757,
             "remaining_time": 50.81169142,
             "test": [
              0.6859704809
             ]
            },
            {
             "iteration": 175,
             "learn": [
              0.625706763
             ],
             "passed_time": 10.84309381,
             "remaining_time": 50.76539375,
             "test": [
              0.6859491078
             ]
            },
            {
             "iteration": 176,
             "learn": [
              0.6253996438
             ],
             "passed_time": 10.91155715,
             "remaining_time": 50.73565838,
             "test": [
              0.6857946371
             ]
            },
            {
             "iteration": 177,
             "learn": [
              0.6253909834
             ],
             "passed_time": 10.95188381,
             "remaining_time": 50.57555334,
             "test": [
              0.6857943458
             ]
            },
            {
             "iteration": 178,
             "learn": [
              0.6253844627
             ],
             "passed_time": 10.98531536,
             "remaining_time": 50.3851615,
             "test": [
              0.6857940063
             ]
            },
            {
             "iteration": 179,
             "learn": [
              0.6253791383
             ],
             "passed_time": 11.02410597,
             "remaining_time": 50.2209272,
             "test": [
              0.6857932366
             ]
            },
            {
             "iteration": 180,
             "learn": [
              0.625043157
             ],
             "passed_time": 11.0903218,
             "remaining_time": 50.18217432,
             "test": [
              0.6857890598
             ]
            },
            {
             "iteration": 181,
             "learn": [
              0.624954895
             ],
             "passed_time": 11.15469972,
             "remaining_time": 50.13485917,
             "test": [
              0.6857014482
             ]
            },
            {
             "iteration": 182,
             "learn": [
              0.6246157229
             ],
             "passed_time": 11.2191033,
             "remaining_time": 50.08747211,
             "test": [
              0.6858241285
             ]
            },
            {
             "iteration": 183,
             "learn": [
              0.6246146733
             ],
             "passed_time": 11.25028177,
             "remaining_time": 49.89255392,
             "test": [
              0.685823645
             ]
            },
            {
             "iteration": 184,
             "learn": [
              0.62461366
             ],
             "passed_time": 11.28785335,
             "remaining_time": 49.72757015,
             "test": [
              0.6858231762
             ]
            },
            {
             "iteration": 185,
             "learn": [
              0.6246120931
             ],
             "passed_time": 11.32070085,
             "remaining_time": 49.5432822,
             "test": [
              0.6858226811
             ]
            },
            {
             "iteration": 186,
             "learn": [
              0.6246111432
             ],
             "passed_time": 11.35190767,
             "remaining_time": 49.35348096,
             "test": [
              0.6858222396
             ]
            },
            {
             "iteration": 187,
             "learn": [
              0.6246098339
             ],
             "passed_time": 11.38490043,
             "remaining_time": 49.17308056,
             "test": [
              0.6858217759
             ]
            },
            {
             "iteration": 188,
             "learn": [
              0.6246025694
             ],
             "passed_time": 11.43039823,
             "remaining_time": 49.04789926,
             "test": [
              0.6858209413
             ]
            },
            {
             "iteration": 189,
             "learn": [
              0.6245914286
             ],
             "passed_time": 11.4903282,
             "remaining_time": 48.98508337,
             "test": [
              0.6858200136
             ]
            },
            {
             "iteration": 190,
             "learn": [
              0.6240976424
             ],
             "passed_time": 11.55840518,
             "remaining_time": 48.95680518,
             "test": [
              0.6858787201
             ]
            },
            {
             "iteration": 191,
             "learn": [
              0.6239979937
             ],
             "passed_time": 11.58920896,
             "remaining_time": 48.77125436,
             "test": [
              0.686014017
             ]
            },
            {
             "iteration": 192,
             "learn": [
              0.6238002239
             ],
             "passed_time": 11.65593291,
             "remaining_time": 48.73750187,
             "test": [
              0.6860837754
             ]
            },
            {
             "iteration": 193,
             "learn": [
              0.6237958396
             ],
             "passed_time": 11.69454919,
             "remaining_time": 48.58663219,
             "test": [
              0.6860831403
             ]
            },
            {
             "iteration": 194,
             "learn": [
              0.6237754196
             ],
             "passed_time": 11.75954693,
             "remaining_time": 48.54582194,
             "test": [
              0.686099756
             ]
            },
            {
             "iteration": 195,
             "learn": [
              0.6237699545
             ],
             "passed_time": 11.8176844,
             "remaining_time": 48.47662375,
             "test": [
              0.686098952
             ]
            },
            {
             "iteration": 196,
             "learn": [
              0.6237678963
             ],
             "passed_time": 11.85699758,
             "remaining_time": 48.33080738,
             "test": [
              0.686098369
             ]
            },
            {
             "iteration": 197,
             "learn": [
              0.6236551809
             ],
             "passed_time": 11.92358934,
             "remaining_time": 48.29655884,
             "test": [
              0.6861105113
             ]
            },
            {
             "iteration": 198,
             "learn": [
              0.6234951692
             ],
             "passed_time": 11.99083531,
             "remaining_time": 48.26461853,
             "test": [
              0.6860240834
             ]
            },
            {
             "iteration": 199,
             "learn": [
              0.6234915065
             ],
             "passed_time": 12.0291388,
             "remaining_time": 48.11655522,
             "test": [
              0.6860234835
             ]
            },
            {
             "iteration": 200,
             "learn": [
              0.6234909479
             ],
             "passed_time": 12.05699847,
             "remaining_time": 47.92806854,
             "test": [
              0.6860230571
             ]
            },
            {
             "iteration": 201,
             "learn": [
              0.6234906631
             ],
             "passed_time": 12.0884744,
             "remaining_time": 47.75545829,
             "test": [
              0.686022668
             ]
            },
            {
             "iteration": 202,
             "learn": [
              0.6234889515
             ],
             "passed_time": 12.12564171,
             "remaining_time": 47.60658347,
             "test": [
              0.6860221201
             ]
            },
            {
             "iteration": 203,
             "learn": [
              0.6231465452
             ],
             "passed_time": 12.18759777,
             "remaining_time": 47.55552856,
             "test": [
              0.6863654244
             ]
            },
            {
             "iteration": 204,
             "learn": [
              0.6230557393
             ],
             "passed_time": 12.25352687,
             "remaining_time": 47.51977492,
             "test": [
              0.6864018746
             ]
            },
            {
             "iteration": 205,
             "learn": [
              0.6230529734
             ],
             "passed_time": 12.29012498,
             "remaining_time": 47.37067588,
             "test": [
              0.6864011851
             ]
            },
            {
             "iteration": 206,
             "learn": [
              0.6230042986
             ],
             "passed_time": 12.33849521,
             "remaining_time": 47.26776185,
             "test": [
              0.6863986684
             ]
            },
            {
             "iteration": 207,
             "learn": [
              0.6229997507
             ],
             "passed_time": 12.37017118,
             "remaining_time": 47.10180566,
             "test": [
              0.6863959845
             ]
            },
            {
             "iteration": 208,
             "learn": [
              0.6229965852
             ],
             "passed_time": 12.39943141,
             "remaining_time": 46.92799162,
             "test": [
              0.6863953955
             ]
            },
            {
             "iteration": 209,
             "learn": [
              0.6226623944
             ],
             "passed_time": 12.46396205,
             "remaining_time": 46.88823819,
             "test": [
              0.6860757951
             ]
            }
           ],
           "meta": {
            "iteration_count": 1000,
            "launch_mode": "Train",
            "learn_metrics": [
             {
              "best_value": "Min",
              "name": "Logloss"
             }
            ],
            "learn_sets": [
             "learn"
            ],
            "name": "experiment",
            "test_metrics": [
             {
              "best_value": "Min",
              "name": "Logloss"
             }
            ],
            "test_sets": [
             "test"
            ]
           }
          },
          "passed_iterations": 209,
          "total_iterations": 1000
         },
         "name": "catboost_info",
         "path": "catboost_info"
        }
       },
       "layout": "IPY_MODEL_09d9a77cf1514d1d94ae2d20d8d3e902"
      }
     }
    },
    "version_major": 2,
    "version_minor": 0
   }
  }
 },
 "nbformat": 4,
 "nbformat_minor": 1
}
